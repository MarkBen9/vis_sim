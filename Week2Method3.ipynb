{
 "cells": [
  {
   "cell_type": "code",
   "execution_count": null,
   "metadata": {
    "collapsed": true
   },
   "outputs": [],
   "source": []
  },
  {
   "cell_type": "code",
   "execution_count": 7,
   "metadata": {
    "collapsed": true
   },
   "outputs": [],
   "source": [
    "%matplotlib inline\n",
    "import numpy as np\n",
    "import matplotlib.pyplot as plt\n",
    "from itertools import product\n",
    "import simulator\n",
    "import aipy"
   ]
  },
  {
   "cell_type": "code",
   "execution_count": 2,
   "metadata": {
    "collapsed": false
   },
   "outputs": [],
   "source": [
    "class sig_mes():\n",
    "\n",
    "    janski  = 100.0\n",
    "    peak    = 150.0\n",
    "    antenna1 =[]\n",
    "    antenna2 =[]\n",
    "    def __init__ (self,source)\n",
    "    def measurement_eq(self,freq,source):\n",
    "        #Self, is just to call things within the class\n",
    "        #Frequency is the Frequency we want to measure.. in Hz\n",
    "        #antenna1 and antenna2 are position vectors        \n",
    "        #Source is the source vector\n",
    "        \n",
    "        #t= np.array(self.antenna1) - np.array(self.antenna2)\n",
    "        #x = self.janski*(self.peak/freq)**(1)*np.exp(-2j*np.pi*np.dot(t,source)*freq/(3e8))\n",
    "        #return x"
   ]
  },
  {
   "cell_type": "code",
   "execution_count": 3,
   "metadata": {
    "collapsed": false
   },
   "outputs": [],
   "source": [
    "#class Complex:\n",
    "#     def __init__(self, realpart, imagpart):\n",
    "#        self.r = realpart\n",
    "#        self.i = imagpart\n",
    "#\n",
    "#x = Complex(3.0, -4.5)\n",
    "#\n",
    "#x.i,x.r\n",
    "#    "
   ]
  },
  {
   "cell_type": "code",
   "execution_count": 13,
   "metadata": {
    "collapsed": false
   },
   "outputs": [],
   "source": [
    "simulator.measurement_eq_split_HealPix?"
   ]
  },
  {
   "cell_type": "code",
   "execution_count": 16,
   "metadata": {
    "collapsed": false
   },
   "outputs": [],
   "source": [
    "aipy.healpix.HealpixMap?"
   ]
  },
  {
   "cell_type": "code",
   "execution_count": 37,
   "metadata": {
    "collapsed": false
   },
   "outputs": [
    {
     "name": "stdout",
     "output_type": "stream",
     "text": [
      "[[[ 2.09]\n",
      "  [ 1.44]]\n",
      "\n",
      " [[ 1.44]\n",
      "  [ 1.69]]]\n"
     ]
    }
   ],
   "source": [
    "a = np.array([[[1.1],[1.2]],[[1.2],[1.3]]])\n",
    "i = np.array([[[1.9],[1.2]],[[1.2],[1.3]]])\n",
    "print(a * i)"
   ]
  },
  {
   "cell_type": "code",
   "execution_count": null,
   "metadata": {
    "collapsed": true
   },
   "outputs": [],
   "source": [
    "g?\n"
   ]
  }
 ],
 "metadata": {
  "kernelspec": {
   "display_name": "Python 2",
   "language": "python",
   "name": "python2"
  },
  "language_info": {
   "codemirror_mode": {
    "name": "ipython",
    "version": 2
   },
   "file_extension": ".py",
   "mimetype": "text/x-python",
   "name": "python",
   "nbconvert_exporter": "python",
   "pygments_lexer": "ipython2",
   "version": "2.7.13"
  }
 },
 "nbformat": 4,
 "nbformat_minor": 2
}
